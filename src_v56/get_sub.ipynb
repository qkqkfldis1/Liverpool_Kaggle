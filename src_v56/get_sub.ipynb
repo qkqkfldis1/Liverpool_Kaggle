{
 "cells": [
  {
   "cell_type": "code",
   "execution_count": 2,
   "metadata": {},
   "outputs": [],
   "source": [
    "import pandas as pd\n",
    "import numpy as np\n",
    "from sklearn.metrics import f1_score\n",
    "from tqdm.notebook import tqdm"
   ]
  },
  {
   "cell_type": "code",
   "execution_count": 3,
   "metadata": {},
   "outputs": [],
   "source": [
    "sub1 = np.load('/home/lyh/liverpool/oofs/V54/V54_test_oofs_fold_0_score_0.9391.npy') \n",
    "sub2 = np.load('/home/lyh/liverpool/oofs/V54/V54_test_oofs_fold_1_score_0.9401.npy') \n",
    "sub3 = np.load('/home/lyh/liverpool/oofs/V54/V54_test_oofs_fold_2_score_0.9407.npy') \n",
    "sub4 = np.load('/home/lyh/liverpool/oofs/V54/V54_test_oofs_fold_3_score_0.9424.npy') \n",
    "sub5 = np.load('/home/lyh/liverpool/oofs/V54/V54_test_oofs_fold_4_score_0.9407.npy') "
   ]
  },
  {
   "cell_type": "code",
   "execution_count": 4,
   "metadata": {},
   "outputs": [],
   "source": [
    "new_sub = (1/5) * (sub1 + sub2 + sub3 + sub4 + sub5)"
   ]
  },
  {
   "cell_type": "code",
   "execution_count": 5,
   "metadata": {},
   "outputs": [],
   "source": [
    "results = pd.DataFrame()\n",
    "\n",
    "results['sub1'] = sub1.argmax(1)\n",
    "results['sub2'] = sub2.argmax(1)\n",
    "results['sub3'] = sub3.argmax(1)\n",
    "results['sub4'] = sub4.argmax(1)\n",
    "results['sub5'] = sub5.argmax(1)\n",
    "results['v1_ensemble'] = pd.read_csv('../wavenet_keras/submission_wavenet_base_v54_noise_more.csv')['open_channels']\n",
    "results['new_sub'] = new_sub.argmax(1)"
   ]
  },
  {
   "cell_type": "code",
   "execution_count": 6,
   "metadata": {},
   "outputs": [
    {
     "data": {
      "text/plain": [
       "sub1           0.999791\n",
       "sub2           0.999805\n",
       "sub3           0.999790\n",
       "sub4           0.999828\n",
       "sub5           0.999815\n",
       "v1_ensemble    0.999724\n",
       "new_sub        1.000000\n",
       "Name: new_sub, dtype: float64"
      ]
     },
     "execution_count": 6,
     "metadata": {},
     "output_type": "execute_result"
    }
   ],
   "source": [
    "results.corr()['new_sub']"
   ]
  },
  {
   "cell_type": "code",
   "execution_count": 7,
   "metadata": {},
   "outputs": [],
   "source": [
    "data = pd.read_csv('/home/lyh/liverpool/test_clean.csv')\n",
    "submission = pd.DataFrame()\n",
    "submission['time'] = data['time']\n",
    "submission['open_channels'] = new_sub.argmax(1)\n",
    "submission.to_csv('V54_all_folds.csv', index=False, float_format='%.4f')"
   ]
  },
  {
   "cell_type": "code",
   "execution_count": null,
   "metadata": {},
   "outputs": [],
   "source": []
  },
  {
   "cell_type": "code",
   "execution_count": null,
   "metadata": {},
   "outputs": [],
   "source": []
  }
 ],
 "metadata": {
  "kernelspec": {
   "display_name": "lyh",
   "language": "python",
   "name": "lyh"
  },
  "language_info": {
   "codemirror_mode": {
    "name": "ipython",
    "version": 3
   },
   "file_extension": ".py",
   "mimetype": "text/x-python",
   "name": "python",
   "nbconvert_exporter": "python",
   "pygments_lexer": "ipython3",
   "version": "3.7.7"
  }
 },
 "nbformat": 4,
 "nbformat_minor": 4
}
